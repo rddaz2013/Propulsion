{
 "cells": [
  {
   "cell_type": "markdown",
   "metadata": {},
   "source": [
    "# Fluid Flow\n",
    "> Rolf H. Sabersky, Allen J. Acosta, Edward G. Hauptmann, E.M. Gates. **Fluid Flow: A First Course in Fluid Mechanics** (4th Edition). Prentice Hall. (August 22, 1998). ISBN-13: 978-0135763728\n"
   ]
  },
  {
   "cell_type": "markdown",
   "metadata": {},
   "source": [
    "Open up this jupyter notebook in the working directory with all your files you want to work with, \n",
    "with the Sage Math kernel (with sagemanifolds installed): I did this with the command:  \n",
    "        `~/Public/sage/sage -n jupyter`  \n",
    "so that we run the `sage` program/command in the directory with the files you need (such as `EuclideanManifold.py`; otherwise, jupyter will treat as the \"tree\" directory to be the current working directory and you won't be able to go \"up\" the directory tree (EY : 20160509 please tell me otherwise).\n"
   ]
  },
  {
   "cell_type": "code",
   "execution_count": 6,
   "metadata": {
    "collapsed": false
   },
   "outputs": [],
   "source": [
    "load(\"EuclideanManifold.py\")"
   ]
  },
  {
   "cell_type": "code",
   "execution_count": 10,
   "metadata": {
    "collapsed": false
   },
   "outputs": [
    {
     "name": "stdout",
     "output_type": "stream",
     "text": [
      "x = rh*cos(ph)*sin(th)\n",
      "y = rh*sin(ph)*sin(th)\n",
      "z = rh*cos(th)\n",
      "x = r*cos(phi)\n",
      "y = r*sin(phi)\n",
      "z = zc\n",
      "g = drh*drh + rh^2 dth*dth + rh^2*sin(th)^2 dph*dph\n"
     ]
    },
    {
     "data": {
      "text/plain": [
       "g = dr*dr + r^2 dphi*dphi + dzc*dzc"
      ]
     },
     "execution_count": 10,
     "metadata": {},
     "output_type": "execute_result"
    }
   ],
   "source": [
    "R3eg = R3()\n",
    "print R3eg.transit_sph_to_cart.display();\n",
    "print R3eg.transit_cyl_to_cart.display();\n",
    "R3eg.equip_metric()\n",
    "print R3eg.g.display(R3eg.sph_ch.frame(),R3eg.sph_ch);\n",
    "R3eg.g.display(R3eg.cyl_ch.frame(),R3eg.cyl_ch)"
   ]
  },
  {
   "cell_type": "code",
   "execution_count": 11,
   "metadata": {
    "collapsed": false
   },
   "outputs": [
    {
     "name": "stdout",
     "output_type": "stream",
     "text": [
      "d/drh*drh + 1/rh d/dth*dth + 1/(rh*sin(th)) d/dph*dph\n"
     ]
    },
    {
     "data": {
      "text/plain": [
       "d/dr*dr + 1/r d/dphi*dphi + d/dzc*dzc"
      ]
     },
     "execution_count": 11,
     "metadata": {},
     "output_type": "execute_result"
    }
   ],
   "source": [
    "to_orthonormal3sph, e3sph, Jacobians3sph = R3eg.make_orthon_frames(R3eg.sph_ch)\n",
    "to_orthonormal3cyl, e3cyl, Jacobians3cyl = R3eg.make_orthon_frames(R3eg.cyl_ch)\n",
    "print to_orthonormal3sph.display(R3eg.sph_ch.frame(),R3eg.sph_ch);\n",
    "to_orthonormal3cyl.display(R3eg.cyl_ch.frame(),R3eg.cyl_ch)"
   ]
  },
  {
   "cell_type": "code",
   "execution_count": null,
   "metadata": {
    "collapsed": true
   },
   "outputs": [],
   "source": []
  }
 ],
 "metadata": {
  "kernelspec": {
   "display_name": "SageMath 7.2.rc0",
   "language": "",
   "name": "sagemath"
  },
  "language_info": {
   "codemirror_mode": {
    "name": "ipython",
    "version": 2
   },
   "file_extension": ".py",
   "mimetype": "text/x-python",
   "name": "python",
   "nbconvert_exporter": "python",
   "pygments_lexer": "ipython2",
   "version": "2.7.10"
  }
 },
 "nbformat": 4,
 "nbformat_minor": 0
}
