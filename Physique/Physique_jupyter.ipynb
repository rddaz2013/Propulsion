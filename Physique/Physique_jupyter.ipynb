{
 "cells": [
  {
   "cell_type": "markdown",
   "metadata": {},
   "source": [
    "# Physique \n",
    "### Mini Table of Contents\n",
    "\n",
    "* Using Physique from a working directory not containing Physique itself\n",
    "* NIST Fundamental Constants\n",
    "* NIST Official Conversions (to metric) \n",
    "* Webscraping example: JPL Solar System Dynamics (JPL SSD) - Planets and Pluto"
   ]
  },
  {
   "cell_type": "markdown",
   "metadata": {},
   "source": [
    "## Using Physique from a working directory not containing Physique itself"
   ]
  },
  {
   "cell_type": "code",
   "execution_count": 4,
   "metadata": {
    "collapsed": true
   },
   "outputs": [],
   "source": [
    "import os, sys"
   ]
  },
  {
   "cell_type": "markdown",
   "metadata": {},
   "source": [
    "Get the current directory"
   ]
  },
  {
   "cell_type": "code",
   "execution_count": 10,
   "metadata": {
    "collapsed": false
   },
   "outputs": [],
   "source": [
    "currentdir = os.getcwd(); os.getcwd();"
   ]
  },
  {
   "cell_type": "markdown",
   "metadata": {},
   "source": [
    "Then append the directory containing the Physique package/library (it's just a folder) with `sys.path.append`; the absolute path for where I placed it just happened to be `\"/Users/ernestyeung/Documents/TeslaModelSP85D\"`: substitute that for the absolute path you find (look at your Finder or File organizing program) "
   ]
  },
  {
   "cell_type": "code",
   "execution_count": 11,
   "metadata": {
    "collapsed": false
   },
   "outputs": [
    {
     "data": {
      "text/plain": [
       "'/home/topolo/PropD/Propulsion/Physique'"
      ]
     },
     "execution_count": 11,
     "metadata": {},
     "output_type": "execute_result"
    }
   ],
   "source": [
    "currentdir # I'm on a different computer now"
   ]
  },
  {
   "cell_type": "code",
   "execution_count": 5,
   "metadata": {
    "collapsed": true
   },
   "outputs": [],
   "source": [
    "sys.path.append('/home/topolo/PropD/Propulsion/')"
   ]
  },
  {
   "cell_type": "code",
   "execution_count": 6,
   "metadata": {
    "collapsed": false
   },
   "outputs": [
    {
     "name": "stdout",
     "output_type": "stream",
     "text": [
      "/home/topolo/PropD/Propulsion/Physique\n",
      "/home/topolo/PropD/Propulsion/Physique/rawdata/\n"
     ]
    }
   ],
   "source": [
    "import Physique"
   ]
  },
  {
   "cell_type": "markdown",
   "metadata": {},
   "source": [
    "Programming note: `__init__.py` in the main directory uses `os.path.dirname(__file__)` with `__file__` (literally that, it's not a placeholder name) being the string with the absolute pathname of the \"file from which the module was loaded, if it was loaded from a file\" (cf. [stackoverflow  Python __file__ attribute absolute or relative?](http://stackoverflow.com/questions/7116889/python-file-attribute-absolute-or-relative)), i.e. \"When a module is loaded in Python, `__file__` is set to its name. You can then use that with other functions to find the directory that the file is located in.\" (cf. [stackoverflow  what does the __file__ wildcard mean/do?](http://stackoverflow.com/questions/9271464/what-does-the-file-wildcard-mean-do/9271617))  "
   ]
  },
  {
   "cell_type": "markdown",
   "metadata": {},
   "source": [
    "# NIST Fundamental Constants"
   ]
  },
  {
   "cell_type": "code",
   "execution_count": 21,
   "metadata": {
    "collapsed": false
   },
   "outputs": [
    {
     "name": "stdout",
     "output_type": "stream",
     "text": [
      "Index([u'Quantity', u'Value', u'Uncertainty', u'Unit'], dtype='object')\n"
     ]
    },
    {
     "data": {
      "text/html": [
       "<div>\n",
       "<table border=\"1\" class=\"dataframe\">\n",
       "  <thead>\n",
       "    <tr style=\"text-align: right;\">\n",
       "      <th></th>\n",
       "      <th>Quantity</th>\n",
       "      <th>Value</th>\n",
       "      <th>Uncertainty</th>\n",
       "      <th>Unit</th>\n",
       "    </tr>\n",
       "  </thead>\n",
       "  <tbody>\n",
       "    <tr>\n",
       "      <th>0</th>\n",
       "      <td>{220} lattice spacing of silicon</td>\n",
       "      <td>1.920155714E-10</td>\n",
       "      <td>3.2E-18</td>\n",
       "      <td>m</td>\n",
       "    </tr>\n",
       "    <tr>\n",
       "      <th>1</th>\n",
       "      <td>alpha particle-electron mass ratio</td>\n",
       "      <td>7294.29954136</td>\n",
       "      <td>2.4E-7</td>\n",
       "      <td></td>\n",
       "    </tr>\n",
       "    <tr>\n",
       "      <th>2</th>\n",
       "      <td>alpha particle mass</td>\n",
       "      <td>6.644657230E-27</td>\n",
       "      <td>8.2E-35</td>\n",
       "      <td>kg</td>\n",
       "    </tr>\n",
       "    <tr>\n",
       "      <th>3</th>\n",
       "      <td>alpha particle mass energy equivalent</td>\n",
       "      <td>5.971920097E-10</td>\n",
       "      <td>7.3E-18</td>\n",
       "      <td>J</td>\n",
       "    </tr>\n",
       "    <tr>\n",
       "      <th>4</th>\n",
       "      <td>alpha particle mass energy equivalent in MeV</td>\n",
       "      <td>3727.379378</td>\n",
       "      <td>0.000023</td>\n",
       "      <td>MeV</td>\n",
       "    </tr>\n",
       "    <tr>\n",
       "      <th>5</th>\n",
       "      <td>alpha particle mass in u</td>\n",
       "      <td>4.001506179127</td>\n",
       "      <td>6.3E-11</td>\n",
       "      <td>u</td>\n",
       "    </tr>\n",
       "    <tr>\n",
       "      <th>6</th>\n",
       "      <td>alpha particle molar mass</td>\n",
       "      <td>0.004001506179127</td>\n",
       "      <td>6.3E-14</td>\n",
       "      <td>kg mol^-1</td>\n",
       "    </tr>\n",
       "    <tr>\n",
       "      <th>7</th>\n",
       "      <td>alpha particle-proton mass ratio</td>\n",
       "      <td>3.97259968907</td>\n",
       "      <td>3.6E-10</td>\n",
       "      <td></td>\n",
       "    </tr>\n",
       "    <tr>\n",
       "      <th>8</th>\n",
       "      <td>Angstrom star</td>\n",
       "      <td>1.00001495E-10</td>\n",
       "      <td>9.0E-17</td>\n",
       "      <td>m</td>\n",
       "    </tr>\n",
       "    <tr>\n",
       "      <th>9</th>\n",
       "      <td>atomic mass constant</td>\n",
       "      <td>1.660539040E-27</td>\n",
       "      <td>2.0E-35</td>\n",
       "      <td>kg</td>\n",
       "    </tr>\n",
       "    <tr>\n",
       "      <th>10</th>\n",
       "      <td>atomic mass constant energy equivalent</td>\n",
       "      <td>1.492418062E-10</td>\n",
       "      <td>1.8E-18</td>\n",
       "      <td>J</td>\n",
       "    </tr>\n",
       "    <tr>\n",
       "      <th>11</th>\n",
       "      <td>atomic mass constant energy equivalent in MeV</td>\n",
       "      <td>931.4940954</td>\n",
       "      <td>0.0000057</td>\n",
       "      <td>MeV</td>\n",
       "    </tr>\n",
       "    <tr>\n",
       "      <th>12</th>\n",
       "      <td>atomic mass unit-electron volt relationship</td>\n",
       "      <td>931494095.4</td>\n",
       "      <td>5.7</td>\n",
       "      <td>eV</td>\n",
       "    </tr>\n",
       "    <tr>\n",
       "      <th>13</th>\n",
       "      <td>atomic mass unit-hartree relationship</td>\n",
       "      <td>34231776.902</td>\n",
       "      <td>0.016</td>\n",
       "      <td>E_h</td>\n",
       "    </tr>\n",
       "    <tr>\n",
       "      <th>14</th>\n",
       "      <td>atomic mass unit-hertz relationship</td>\n",
       "      <td>2.2523427206E+23</td>\n",
       "      <td>1.0E+14</td>\n",
       "      <td>Hz</td>\n",
       "    </tr>\n",
       "    <tr>\n",
       "      <th>15</th>\n",
       "      <td>atomic mass unit-inverse meter relationship</td>\n",
       "      <td>7.5130066166E+14</td>\n",
       "      <td>3.4E+5</td>\n",
       "      <td>m^-1</td>\n",
       "    </tr>\n",
       "    <tr>\n",
       "      <th>16</th>\n",
       "      <td>atomic mass unit-joule relationship</td>\n",
       "      <td>1.492418062E-10</td>\n",
       "      <td>1.8E-18</td>\n",
       "      <td>J</td>\n",
       "    </tr>\n",
       "    <tr>\n",
       "      <th>17</th>\n",
       "      <td>atomic mass unit-kelvin relationship</td>\n",
       "      <td>1.08095438E+13</td>\n",
       "      <td>6.2E+6</td>\n",
       "      <td>K</td>\n",
       "    </tr>\n",
       "    <tr>\n",
       "      <th>18</th>\n",
       "      <td>atomic mass unit-kilogram relationship</td>\n",
       "      <td>1.660539040E-27</td>\n",
       "      <td>2.0E-35</td>\n",
       "      <td>kg</td>\n",
       "    </tr>\n",
       "    <tr>\n",
       "      <th>19</th>\n",
       "      <td>atomic unit of 1st hyperpolarizability</td>\n",
       "      <td>3.206361329E-53</td>\n",
       "      <td>2.0E-61</td>\n",
       "      <td>C^3 m^3 J^-2</td>\n",
       "    </tr>\n",
       "    <tr>\n",
       "      <th>20</th>\n",
       "      <td>atomic unit of 2nd hyperpolarizability</td>\n",
       "      <td>6.235380085E-65</td>\n",
       "      <td>7.7E-73</td>\n",
       "      <td>C^4 m^4 J^-3</td>\n",
       "    </tr>\n",
       "    <tr>\n",
       "      <th>21</th>\n",
       "      <td>atomic unit of action</td>\n",
       "      <td>1.054571800E-34</td>\n",
       "      <td>1.3E-42</td>\n",
       "      <td>J s</td>\n",
       "    </tr>\n",
       "    <tr>\n",
       "      <th>22</th>\n",
       "      <td>atomic unit of charge</td>\n",
       "      <td>1.6021766208E-19</td>\n",
       "      <td>9.8E-28</td>\n",
       "      <td>C</td>\n",
       "    </tr>\n",
       "    <tr>\n",
       "      <th>23</th>\n",
       "      <td>atomic unit of charge density</td>\n",
       "      <td>1.0812023770E+12</td>\n",
       "      <td>6.7E+3</td>\n",
       "      <td>C m^-3</td>\n",
       "    </tr>\n",
       "    <tr>\n",
       "      <th>24</th>\n",
       "      <td>atomic unit of current</td>\n",
       "      <td>0.006623618183</td>\n",
       "      <td>4.1E-11</td>\n",
       "      <td>A</td>\n",
       "    </tr>\n",
       "    <tr>\n",
       "      <th>25</th>\n",
       "      <td>atomic unit of electric dipole mom.</td>\n",
       "      <td>8.478353552E-30</td>\n",
       "      <td>5.2E-38</td>\n",
       "      <td>C m</td>\n",
       "    </tr>\n",
       "    <tr>\n",
       "      <th>26</th>\n",
       "      <td>atomic unit of electric field</td>\n",
       "      <td>5.142206707E+11</td>\n",
       "      <td>3.2E+3</td>\n",
       "      <td>V m^-1</td>\n",
       "    </tr>\n",
       "    <tr>\n",
       "      <th>27</th>\n",
       "      <td>atomic unit of electric field gradient</td>\n",
       "      <td>9.717362356E+21</td>\n",
       "      <td>6.0E+13</td>\n",
       "      <td>V m^-2</td>\n",
       "    </tr>\n",
       "    <tr>\n",
       "      <th>28</th>\n",
       "      <td>atomic unit of electric polarizability</td>\n",
       "      <td>1.6487772731E-41</td>\n",
       "      <td>1.1E-50</td>\n",
       "      <td>C^2 m^2 J^-1</td>\n",
       "    </tr>\n",
       "    <tr>\n",
       "      <th>29</th>\n",
       "      <td>atomic unit of electric potential</td>\n",
       "      <td>27.21138602</td>\n",
       "      <td>1.7E-7</td>\n",
       "      <td>V</td>\n",
       "    </tr>\n",
       "    <tr>\n",
       "      <th>...</th>\n",
       "      <td>...</td>\n",
       "      <td>...</td>\n",
       "      <td>...</td>\n",
       "      <td>...</td>\n",
       "    </tr>\n",
       "    <tr>\n",
       "      <th>305</th>\n",
       "      <td>standard-state pressure</td>\n",
       "      <td>100000</td>\n",
       "      <td>None</td>\n",
       "      <td>Pa</td>\n",
       "    </tr>\n",
       "    <tr>\n",
       "      <th>306</th>\n",
       "      <td>Stefan-Boltzmann constant</td>\n",
       "      <td>5.670367E-8</td>\n",
       "      <td>1.3E-13</td>\n",
       "      <td>W m^-2 K^-4</td>\n",
       "    </tr>\n",
       "    <tr>\n",
       "      <th>307</th>\n",
       "      <td>tau Compton wavelength</td>\n",
       "      <td>6.97787E-16</td>\n",
       "      <td>6.3E-20</td>\n",
       "      <td>m</td>\n",
       "    </tr>\n",
       "    <tr>\n",
       "      <th>308</th>\n",
       "      <td>tau Compton wavelength over 2 pi</td>\n",
       "      <td>1.11056E-16</td>\n",
       "      <td>1.0E-20</td>\n",
       "      <td>m</td>\n",
       "    </tr>\n",
       "    <tr>\n",
       "      <th>309</th>\n",
       "      <td>tau-electron mass ratio</td>\n",
       "      <td>3477.15</td>\n",
       "      <td>0.31</td>\n",
       "      <td></td>\n",
       "    </tr>\n",
       "    <tr>\n",
       "      <th>310</th>\n",
       "      <td>tau mass</td>\n",
       "      <td>3.16747E-27</td>\n",
       "      <td>2.9E-31</td>\n",
       "      <td>kg</td>\n",
       "    </tr>\n",
       "    <tr>\n",
       "      <th>311</th>\n",
       "      <td>tau mass energy equivalent</td>\n",
       "      <td>2.84678E-10</td>\n",
       "      <td>2.6E-14</td>\n",
       "      <td>J</td>\n",
       "    </tr>\n",
       "    <tr>\n",
       "      <th>312</th>\n",
       "      <td>tau mass energy equivalent in MeV</td>\n",
       "      <td>1776.82</td>\n",
       "      <td>0.16</td>\n",
       "      <td>MeV</td>\n",
       "    </tr>\n",
       "    <tr>\n",
       "      <th>313</th>\n",
       "      <td>tau mass in u</td>\n",
       "      <td>1.90749</td>\n",
       "      <td>0.00017</td>\n",
       "      <td>u</td>\n",
       "    </tr>\n",
       "    <tr>\n",
       "      <th>314</th>\n",
       "      <td>tau molar mass</td>\n",
       "      <td>0.00190749</td>\n",
       "      <td>1.7E-7</td>\n",
       "      <td>kg mol^-1</td>\n",
       "    </tr>\n",
       "    <tr>\n",
       "      <th>315</th>\n",
       "      <td>tau-muon mass ratio</td>\n",
       "      <td>16.8167</td>\n",
       "      <td>0.0015</td>\n",
       "      <td></td>\n",
       "    </tr>\n",
       "    <tr>\n",
       "      <th>316</th>\n",
       "      <td>tau-neutron mass ratio</td>\n",
       "      <td>1.89111</td>\n",
       "      <td>0.00017</td>\n",
       "      <td></td>\n",
       "    </tr>\n",
       "    <tr>\n",
       "      <th>317</th>\n",
       "      <td>tau-proton mass ratio</td>\n",
       "      <td>1.89372</td>\n",
       "      <td>0.00017</td>\n",
       "      <td></td>\n",
       "    </tr>\n",
       "    <tr>\n",
       "      <th>318</th>\n",
       "      <td>Thomson cross section</td>\n",
       "      <td>6.6524587158E-29</td>\n",
       "      <td>9.1E-38</td>\n",
       "      <td>m^2</td>\n",
       "    </tr>\n",
       "    <tr>\n",
       "      <th>319</th>\n",
       "      <td>triton-electron mass ratio</td>\n",
       "      <td>5496.92153588</td>\n",
       "      <td>2.6E-7</td>\n",
       "      <td></td>\n",
       "    </tr>\n",
       "    <tr>\n",
       "      <th>320</th>\n",
       "      <td>triton g factor</td>\n",
       "      <td>5.957924920</td>\n",
       "      <td>2.8E-8</td>\n",
       "      <td></td>\n",
       "    </tr>\n",
       "    <tr>\n",
       "      <th>321</th>\n",
       "      <td>triton mag. mom.</td>\n",
       "      <td>1.504609503E-26</td>\n",
       "      <td>1.2E-34</td>\n",
       "      <td>J T^-1</td>\n",
       "    </tr>\n",
       "    <tr>\n",
       "      <th>322</th>\n",
       "      <td>triton mag. mom. to Bohr magneton ratio</td>\n",
       "      <td>0.0016223936616</td>\n",
       "      <td>7.6E-12</td>\n",
       "      <td></td>\n",
       "    </tr>\n",
       "    <tr>\n",
       "      <th>323</th>\n",
       "      <td>triton mag. mom. to nuclear magneton ratio</td>\n",
       "      <td>2.978962460</td>\n",
       "      <td>1.4E-8</td>\n",
       "      <td></td>\n",
       "    </tr>\n",
       "    <tr>\n",
       "      <th>324</th>\n",
       "      <td>triton mass</td>\n",
       "      <td>5.007356665E-27</td>\n",
       "      <td>6.2E-35</td>\n",
       "      <td>kg</td>\n",
       "    </tr>\n",
       "    <tr>\n",
       "      <th>325</th>\n",
       "      <td>triton mass energy equivalent</td>\n",
       "      <td>4.500387735E-10</td>\n",
       "      <td>5.5E-18</td>\n",
       "      <td>J</td>\n",
       "    </tr>\n",
       "    <tr>\n",
       "      <th>326</th>\n",
       "      <td>triton mass energy equivalent in MeV</td>\n",
       "      <td>2808.921112</td>\n",
       "      <td>0.000017</td>\n",
       "      <td>MeV</td>\n",
       "    </tr>\n",
       "    <tr>\n",
       "      <th>327</th>\n",
       "      <td>triton mass in u</td>\n",
       "      <td>3.01550071632</td>\n",
       "      <td>1.1E-10</td>\n",
       "      <td>u</td>\n",
       "    </tr>\n",
       "    <tr>\n",
       "      <th>328</th>\n",
       "      <td>triton molar mass</td>\n",
       "      <td>0.00301550071632</td>\n",
       "      <td>1.1E-13</td>\n",
       "      <td>kg mol^-1</td>\n",
       "    </tr>\n",
       "    <tr>\n",
       "      <th>329</th>\n",
       "      <td>triton-proton mass ratio</td>\n",
       "      <td>2.99371703348</td>\n",
       "      <td>2.2E-10</td>\n",
       "      <td></td>\n",
       "    </tr>\n",
       "    <tr>\n",
       "      <th>330</th>\n",
       "      <td>unified atomic mass unit</td>\n",
       "      <td>1.660539040E-27</td>\n",
       "      <td>2.0E-35</td>\n",
       "      <td>kg</td>\n",
       "    </tr>\n",
       "    <tr>\n",
       "      <th>331</th>\n",
       "      <td>von Klitzing constant</td>\n",
       "      <td>25812.8074555</td>\n",
       "      <td>0.0000059</td>\n",
       "      <td>ohm</td>\n",
       "    </tr>\n",
       "    <tr>\n",
       "      <th>332</th>\n",
       "      <td>weak mixing angle</td>\n",
       "      <td>0.2223</td>\n",
       "      <td>0.0021</td>\n",
       "      <td></td>\n",
       "    </tr>\n",
       "    <tr>\n",
       "      <th>333</th>\n",
       "      <td>Wien frequency displacement law constant</td>\n",
       "      <td>5.8789238E+10</td>\n",
       "      <td>3.4E+4</td>\n",
       "      <td>Hz K^-1</td>\n",
       "    </tr>\n",
       "    <tr>\n",
       "      <th>334</th>\n",
       "      <td>Wien wavelength displacement law constant</td>\n",
       "      <td>0.0028977729</td>\n",
       "      <td>1.7E-9</td>\n",
       "      <td>m K</td>\n",
       "    </tr>\n",
       "  </tbody>\n",
       "</table>\n",
       "<p>335 rows × 4 columns</p>\n",
       "</div>"
      ],
      "text/plain": [
       "                                          Quantity              Value  \\\n",
       "0                 {220} lattice spacing of silicon    1.920155714E-10   \n",
       "1               alpha particle-electron mass ratio      7294.29954136   \n",
       "2                              alpha particle mass    6.644657230E-27   \n",
       "3            alpha particle mass energy equivalent    5.971920097E-10   \n",
       "4     alpha particle mass energy equivalent in MeV        3727.379378   \n",
       "5                         alpha particle mass in u     4.001506179127   \n",
       "6                        alpha particle molar mass  0.004001506179127   \n",
       "7                 alpha particle-proton mass ratio      3.97259968907   \n",
       "8                                    Angstrom star     1.00001495E-10   \n",
       "9                             atomic mass constant    1.660539040E-27   \n",
       "10          atomic mass constant energy equivalent    1.492418062E-10   \n",
       "11   atomic mass constant energy equivalent in MeV        931.4940954   \n",
       "12     atomic mass unit-electron volt relationship        931494095.4   \n",
       "13           atomic mass unit-hartree relationship       34231776.902   \n",
       "14             atomic mass unit-hertz relationship   2.2523427206E+23   \n",
       "15     atomic mass unit-inverse meter relationship   7.5130066166E+14   \n",
       "16             atomic mass unit-joule relationship    1.492418062E-10   \n",
       "17            atomic mass unit-kelvin relationship     1.08095438E+13   \n",
       "18          atomic mass unit-kilogram relationship    1.660539040E-27   \n",
       "19          atomic unit of 1st hyperpolarizability    3.206361329E-53   \n",
       "20          atomic unit of 2nd hyperpolarizability    6.235380085E-65   \n",
       "21                           atomic unit of action    1.054571800E-34   \n",
       "22                           atomic unit of charge   1.6021766208E-19   \n",
       "23                   atomic unit of charge density   1.0812023770E+12   \n",
       "24                          atomic unit of current     0.006623618183   \n",
       "25             atomic unit of electric dipole mom.    8.478353552E-30   \n",
       "26                   atomic unit of electric field    5.142206707E+11   \n",
       "27          atomic unit of electric field gradient    9.717362356E+21   \n",
       "28          atomic unit of electric polarizability   1.6487772731E-41   \n",
       "29               atomic unit of electric potential        27.21138602   \n",
       "..                                             ...                ...   \n",
       "305                        standard-state pressure             100000   \n",
       "306                      Stefan-Boltzmann constant        5.670367E-8   \n",
       "307                         tau Compton wavelength        6.97787E-16   \n",
       "308               tau Compton wavelength over 2 pi        1.11056E-16   \n",
       "309                        tau-electron mass ratio            3477.15   \n",
       "310                                       tau mass        3.16747E-27   \n",
       "311                     tau mass energy equivalent        2.84678E-10   \n",
       "312              tau mass energy equivalent in MeV            1776.82   \n",
       "313                                  tau mass in u            1.90749   \n",
       "314                                 tau molar mass         0.00190749   \n",
       "315                            tau-muon mass ratio            16.8167   \n",
       "316                         tau-neutron mass ratio            1.89111   \n",
       "317                          tau-proton mass ratio            1.89372   \n",
       "318                          Thomson cross section   6.6524587158E-29   \n",
       "319                     triton-electron mass ratio      5496.92153588   \n",
       "320                                triton g factor        5.957924920   \n",
       "321                               triton mag. mom.    1.504609503E-26   \n",
       "322        triton mag. mom. to Bohr magneton ratio    0.0016223936616   \n",
       "323     triton mag. mom. to nuclear magneton ratio        2.978962460   \n",
       "324                                    triton mass    5.007356665E-27   \n",
       "325                  triton mass energy equivalent    4.500387735E-10   \n",
       "326           triton mass energy equivalent in MeV        2808.921112   \n",
       "327                               triton mass in u      3.01550071632   \n",
       "328                              triton molar mass   0.00301550071632   \n",
       "329                       triton-proton mass ratio      2.99371703348   \n",
       "330                       unified atomic mass unit    1.660539040E-27   \n",
       "331                          von Klitzing constant      25812.8074555   \n",
       "332                              weak mixing angle             0.2223   \n",
       "333       Wien frequency displacement law constant      5.8789238E+10   \n",
       "334      Wien wavelength displacement law constant       0.0028977729   \n",
       "\n",
       "    Uncertainty          Unit  \n",
       "0       3.2E-18             m  \n",
       "1        2.4E-7                \n",
       "2       8.2E-35            kg  \n",
       "3       7.3E-18             J  \n",
       "4      0.000023           MeV  \n",
       "5       6.3E-11             u  \n",
       "6       6.3E-14     kg mol^-1  \n",
       "7       3.6E-10                \n",
       "8       9.0E-17             m  \n",
       "9       2.0E-35            kg  \n",
       "10      1.8E-18             J  \n",
       "11    0.0000057           MeV  \n",
       "12          5.7            eV  \n",
       "13        0.016           E_h  \n",
       "14      1.0E+14            Hz  \n",
       "15       3.4E+5          m^-1  \n",
       "16      1.8E-18             J  \n",
       "17       6.2E+6             K  \n",
       "18      2.0E-35            kg  \n",
       "19      2.0E-61  C^3 m^3 J^-2  \n",
       "20      7.7E-73  C^4 m^4 J^-3  \n",
       "21      1.3E-42           J s  \n",
       "22      9.8E-28             C  \n",
       "23       6.7E+3        C m^-3  \n",
       "24      4.1E-11             A  \n",
       "25      5.2E-38           C m  \n",
       "26       3.2E+3        V m^-1  \n",
       "27      6.0E+13        V m^-2  \n",
       "28      1.1E-50  C^2 m^2 J^-1  \n",
       "29       1.7E-7             V  \n",
       "..          ...           ...  \n",
       "305        None            Pa  \n",
       "306     1.3E-13   W m^-2 K^-4  \n",
       "307     6.3E-20             m  \n",
       "308     1.0E-20             m  \n",
       "309        0.31                \n",
       "310     2.9E-31            kg  \n",
       "311     2.6E-14             J  \n",
       "312        0.16           MeV  \n",
       "313     0.00017             u  \n",
       "314      1.7E-7     kg mol^-1  \n",
       "315      0.0015                \n",
       "316     0.00017                \n",
       "317     0.00017                \n",
       "318     9.1E-38           m^2  \n",
       "319      2.6E-7                \n",
       "320      2.8E-8                \n",
       "321     1.2E-34        J T^-1  \n",
       "322     7.6E-12                \n",
       "323      1.4E-8                \n",
       "324     6.2E-35            kg  \n",
       "325     5.5E-18             J  \n",
       "326    0.000017           MeV  \n",
       "327     1.1E-10             u  \n",
       "328     1.1E-13     kg mol^-1  \n",
       "329     2.2E-10                \n",
       "330     2.0E-35            kg  \n",
       "331   0.0000059           ohm  \n",
       "332      0.0021                \n",
       "333      3.4E+4       Hz K^-1  \n",
       "334      1.7E-9           m K  \n",
       "\n",
       "[335 rows x 4 columns]"
      ]
     },
     "execution_count": 21,
     "metadata": {},
     "output_type": "execute_result"
    }
   ],
   "source": [
    "from Physique import FundConst\n",
    "print Physique.FundConst.columns\n",
    "Physique.FundConst"
   ]
  },
  {
   "cell_type": "markdown",
   "metadata": {},
   "source": [
    "Find a *Fundamental Constant* you are interested in using the usual *panda* modules"
   ]
  },
  {
   "cell_type": "code",
   "execution_count": 41,
   "metadata": {
    "collapsed": false
   },
   "outputs": [
    {
     "data": {
      "text/html": [
       "<div>\n",
       "<table border=\"1\" class=\"dataframe\">\n",
       "  <thead>\n",
       "    <tr style=\"text-align: right;\">\n",
       "      <th></th>\n",
       "      <th>Quantity</th>\n",
       "      <th>Value</th>\n",
       "      <th>Uncertainty</th>\n",
       "      <th>Unit</th>\n",
       "    </tr>\n",
       "  </thead>\n",
       "  <tbody>\n",
       "    <tr>\n",
       "      <th>303</th>\n",
       "      <td>standard acceleration of gravity</td>\n",
       "      <td>9.80665</td>\n",
       "      <td>None</td>\n",
       "      <td>m s^-2</td>\n",
       "    </tr>\n",
       "  </tbody>\n",
       "</table>\n",
       "</div>"
      ],
      "text/plain": [
       "                             Quantity    Value Uncertainty    Unit\n",
       "303  standard acceleration of gravity  9.80665        None  m s^-2"
      ]
     },
     "execution_count": 41,
     "metadata": {},
     "output_type": "execute_result"
    }
   ],
   "source": [
    "g_0pd = FundConst[ FundConst[\"Quantity\"].str.contains(\"gravity\") ] \n",
    "# standard acceleration of gravity as a panda DataFrame\n",
    "g_0pd"
   ]
  },
  {
   "cell_type": "code",
   "execution_count": 32,
   "metadata": {
    "collapsed": false
   },
   "outputs": [
    {
     "name": "stdout",
     "output_type": "stream",
     "text": [
      "303    standard acceleration of gravity\n",
      "Name: Quantity, dtype: object\n",
      "9.80665\n",
      "m s^-2\n"
     ]
    }
   ],
   "source": [
    "# access the values you're interested in \n",
    "print g_0pd.Quantity\n",
    "print g_0pd.Value.get_values()[0] \n",
    "print g_0pd.Unit.get_values()[0] "
   ]
  },
  {
   "cell_type": "code",
   "execution_count": 43,
   "metadata": {
    "collapsed": false
   },
   "outputs": [
    {
     "data": {
      "text/plain": [
       "Quantity       standard acceleration of gravity\n",
       "Value                                   9.80665\n",
       "Uncertainty                                None\n",
       "Unit                                     m s^-2\n",
       "Name: 303, dtype: object"
      ]
     },
     "execution_count": 43,
     "metadata": {},
     "output_type": "execute_result"
    }
   ],
   "source": [
    "# you can also grab just the 1 entry from this DataFrame using the .loc module\n",
    "FundConst[FundConst[\"Quantity\"].str.contains(\"Boltzmann\")].loc[49,:]"
   ]
  },
  {
   "cell_type": "code",
   "execution_count": 44,
   "metadata": {
    "collapsed": false
   },
   "outputs": [
    {
     "data": {
      "text/plain": [
       "Quantity       standard acceleration of gravity\n",
       "Value                                   9.80665\n",
       "Uncertainty                                None\n",
       "Unit                                     m s^-2\n",
       "Name: 303, dtype: object"
      ]
     },
     "execution_count": 44,
     "metadata": {},
     "output_type": "execute_result"
    }
   ],
   "source": [
    "g_0pd.loc[303,:]"
   ]
  },
  {
   "cell_type": "markdown",
   "metadata": {},
   "source": [
    "# NIST Official Conversions (to metric)"
   ]
  },
  {
   "cell_type": "markdown",
   "metadata": {},
   "source": [
    "This is the pandas DataFrame containing all the NIST Official Conversions to SI.  "
   ]
  },
  {
   "cell_type": "code",
   "execution_count": 11,
   "metadata": {
    "collapsed": true
   },
   "outputs": [],
   "source": [
    "convDF = Physique.conv"
   ]
  },
  {
   "cell_type": "code",
   "execution_count": 12,
   "metadata": {
    "collapsed": false
   },
   "outputs": [
    {
     "data": {
      "text/plain": [
       "Index([u'Toconvertfrom', u'to', u'Multiplyby'], dtype='object')"
      ]
     },
     "execution_count": 12,
     "metadata": {},
     "output_type": "execute_result"
    }
   ],
   "source": [
    "convDF.columns"
   ]
  },
  {
   "cell_type": "markdown",
   "metadata": {},
   "source": [
    "From the list of columns, search for the quantity you desired by trying out different search terms: e.g. I'm reading Huzel and Huang's **Modern Engineering for Design of Liquid-Propellant Rocket Engines** and I want to know how to convert from\n",
    "* lb (pound or pound-force) for thrust into force in Newton (N)\n",
    "* psia (pounds per square inch absolute) for (chamber) pressure into pressure in Pascal (Pa)\n",
    "\n",
    "We can try to look up the U.S. or Imperial units from the `Toconvertfrom` column.  "
   ]
  },
  {
   "cell_type": "code",
   "execution_count": 13,
   "metadata": {
    "collapsed": false
   },
   "outputs": [
    {
     "data": {
      "text/html": [
       "<div>\n",
       "<table border=\"1\" class=\"dataframe\">\n",
       "  <thead>\n",
       "    <tr style=\"text-align: right;\">\n",
       "      <th></th>\n",
       "      <th>Toconvertfrom</th>\n",
       "      <th>to</th>\n",
       "      <th>Multiplyby</th>\n",
       "    </tr>\n",
       "  </thead>\n",
       "  <tbody>\n",
       "    <tr>\n",
       "      <th>175</th>\n",
       "      <td>foot pound-force (ft · lbf)</td>\n",
       "      <td>joule (J)</td>\n",
       "      <td>1.355818</td>\n",
       "    </tr>\n",
       "    <tr>\n",
       "      <th>176</th>\n",
       "      <td>foot pound-force per hour (ft · lbf/h)</td>\n",
       "      <td>watt (W)</td>\n",
       "      <td>0.0003766161</td>\n",
       "    </tr>\n",
       "    <tr>\n",
       "      <th>177</th>\n",
       "      <td>foot pound-force per minute (ft · lbf/min)</td>\n",
       "      <td>watt (W)</td>\n",
       "      <td>0.02259697</td>\n",
       "    </tr>\n",
       "    <tr>\n",
       "      <th>178</th>\n",
       "      <td>foot pound-force per second (ft · lbf/s)</td>\n",
       "      <td>watt (W)</td>\n",
       "      <td>1.355818</td>\n",
       "    </tr>\n",
       "    <tr>\n",
       "      <th>340</th>\n",
       "      <td>pound-force (lbf) 23</td>\n",
       "      <td>newton (N)</td>\n",
       "      <td>4.448222</td>\n",
       "    </tr>\n",
       "    <tr>\n",
       "      <th>341</th>\n",
       "      <td>pound-force foot (lbf · ft)</td>\n",
       "      <td>newton meter (N · m)</td>\n",
       "      <td>1.355818</td>\n",
       "    </tr>\n",
       "    <tr>\n",
       "      <th>342</th>\n",
       "      <td>pound-force foot per inch (lbf · ft/in)</td>\n",
       "      <td>newton meter per meter (N · m/m)</td>\n",
       "      <td>53.37866</td>\n",
       "    </tr>\n",
       "    <tr>\n",
       "      <th>343</th>\n",
       "      <td>pound-force inch (lbf · in)</td>\n",
       "      <td>newton meter (N · m)</td>\n",
       "      <td>0.1129848</td>\n",
       "    </tr>\n",
       "    <tr>\n",
       "      <th>344</th>\n",
       "      <td>pound-force inch per inch (lbf · in/in)</td>\n",
       "      <td>newton meter per meter (N · m/m)</td>\n",
       "      <td>4.448222</td>\n",
       "    </tr>\n",
       "    <tr>\n",
       "      <th>345</th>\n",
       "      <td>pound-force per foot (lbf/ft)</td>\n",
       "      <td>newton per meter (N/m)</td>\n",
       "      <td>14.59390</td>\n",
       "    </tr>\n",
       "    <tr>\n",
       "      <th>346</th>\n",
       "      <td>pound-force per inch (lbf/in)</td>\n",
       "      <td>newton per meter (N/m)</td>\n",
       "      <td>175.1268</td>\n",
       "    </tr>\n",
       "    <tr>\n",
       "      <th>347</th>\n",
       "      <td>pound-force per pound (lbf/lb) \\n    (thrust t...</td>\n",
       "      <td>newton per kilogram (N/kg)</td>\n",
       "      <td>9.80665</td>\n",
       "    </tr>\n",
       "    <tr>\n",
       "      <th>348</th>\n",
       "      <td>pound-force per square foot (lbf/ft2)</td>\n",
       "      <td>pascal (Pa)</td>\n",
       "      <td>47.88026</td>\n",
       "    </tr>\n",
       "    <tr>\n",
       "      <th>349</th>\n",
       "      <td>pound-force per square inch (psi) \\n    (lbf/in2)</td>\n",
       "      <td>pascal (Pa)</td>\n",
       "      <td>6894.757</td>\n",
       "    </tr>\n",
       "    <tr>\n",
       "      <th>350</th>\n",
       "      <td>pound-force per square inch (psi) (lbf/in2)</td>\n",
       "      <td>kilopascal (kPa)</td>\n",
       "      <td>6.894757</td>\n",
       "    </tr>\n",
       "    <tr>\n",
       "      <th>351</th>\n",
       "      <td>pound-force second per square foot \\n    (lbf ...</td>\n",
       "      <td>pascal second (Pa · s)</td>\n",
       "      <td>47.88026</td>\n",
       "    </tr>\n",
       "    <tr>\n",
       "      <th>352</th>\n",
       "      <td>pound-force second per square inch \\n    (lbf ...</td>\n",
       "      <td>pascal second (Pa · s)</td>\n",
       "      <td>6894.757</td>\n",
       "    </tr>\n",
       "    <tr>\n",
       "      <th>372</th>\n",
       "      <td>psi (pound-force per square inch) (lbf/in2)</td>\n",
       "      <td>pascal (Pa)</td>\n",
       "      <td>6894.757</td>\n",
       "    </tr>\n",
       "    <tr>\n",
       "      <th>373</th>\n",
       "      <td>psi (pound-force per square inch) (lbf/in2)</td>\n",
       "      <td>kilopascal (kPa)</td>\n",
       "      <td>6.894757</td>\n",
       "    </tr>\n",
       "  </tbody>\n",
       "</table>\n",
       "</div>"
      ],
      "text/plain": [
       "                                         Toconvertfrom  \\\n",
       "175                        foot pound-force (ft · lbf)   \n",
       "176             foot pound-force per hour (ft · lbf/h)   \n",
       "177         foot pound-force per minute (ft · lbf/min)   \n",
       "178           foot pound-force per second (ft · lbf/s)   \n",
       "340                               pound-force (lbf) 23   \n",
       "341                        pound-force foot (lbf · ft)   \n",
       "342            pound-force foot per inch (lbf · ft/in)   \n",
       "343                        pound-force inch (lbf · in)   \n",
       "344            pound-force inch per inch (lbf · in/in)   \n",
       "345                      pound-force per foot (lbf/ft)   \n",
       "346                      pound-force per inch (lbf/in)   \n",
       "347  pound-force per pound (lbf/lb) \\n    (thrust t...   \n",
       "348              pound-force per square foot (lbf/ft2)   \n",
       "349  pound-force per square inch (psi) \\n    (lbf/in2)   \n",
       "350        pound-force per square inch (psi) (lbf/in2)   \n",
       "351  pound-force second per square foot \\n    (lbf ...   \n",
       "352  pound-force second per square inch \\n    (lbf ...   \n",
       "372        psi (pound-force per square inch) (lbf/in2)   \n",
       "373        psi (pound-force per square inch) (lbf/in2)   \n",
       "\n",
       "                                   to    Multiplyby  \n",
       "175                         joule (J)      1.355818  \n",
       "176                          watt (W)  0.0003766161  \n",
       "177                          watt (W)    0.02259697  \n",
       "178                          watt (W)      1.355818  \n",
       "340                        newton (N)      4.448222  \n",
       "341              newton meter (N · m)      1.355818  \n",
       "342  newton meter per meter (N · m/m)      53.37866  \n",
       "343              newton meter (N · m)     0.1129848  \n",
       "344  newton meter per meter (N · m/m)      4.448222  \n",
       "345            newton per meter (N/m)      14.59390  \n",
       "346            newton per meter (N/m)      175.1268  \n",
       "347        newton per kilogram (N/kg)       9.80665  \n",
       "348                       pascal (Pa)      47.88026  \n",
       "349                       pascal (Pa)      6894.757  \n",
       "350                  kilopascal (kPa)      6.894757  \n",
       "351            pascal second (Pa · s)      47.88026  \n",
       "352            pascal second (Pa · s)      6894.757  \n",
       "372                       pascal (Pa)      6894.757  \n",
       "373                  kilopascal (kPa)      6.894757  "
      ]
     },
     "execution_count": 13,
     "metadata": {},
     "output_type": "execute_result"
    }
   ],
   "source": [
    "convDF[convDF['Toconvertfrom'].str.contains(\"pound-force \")]"
   ]
  },
  {
   "cell_type": "markdown",
   "metadata": {},
   "source": [
    "Or we can look up the SI unit we want to convert to."
   ]
  },
  {
   "cell_type": "code",
   "execution_count": 14,
   "metadata": {
    "collapsed": false
   },
   "outputs": [
    {
     "data": {
      "text/html": [
       "<div>\n",
       "<table border=\"1\" class=\"dataframe\">\n",
       "  <thead>\n",
       "    <tr style=\"text-align: right;\">\n",
       "      <th></th>\n",
       "      <th>Toconvertfrom</th>\n",
       "      <th>to</th>\n",
       "      <th>Multiplyby</th>\n",
       "    </tr>\n",
       "  </thead>\n",
       "  <tbody>\n",
       "    <tr>\n",
       "      <th>137</th>\n",
       "      <td>dyne (dyn)</td>\n",
       "      <td>newton (N)</td>\n",
       "      <td>0.000010</td>\n",
       "    </tr>\n",
       "    <tr>\n",
       "      <th>138</th>\n",
       "      <td>dyne centimeter (dyn · cm)</td>\n",
       "      <td>newton meter (N · m)</td>\n",
       "      <td>1.0E-7</td>\n",
       "    </tr>\n",
       "    <tr>\n",
       "      <th>238</th>\n",
       "      <td>kilogram-force (kgf)</td>\n",
       "      <td>newton (N)</td>\n",
       "      <td>9.80665</td>\n",
       "    </tr>\n",
       "    <tr>\n",
       "      <th>239</th>\n",
       "      <td>kilogram-force meter (kgf · m)</td>\n",
       "      <td>newton meter (N · m)</td>\n",
       "      <td>9.80665</td>\n",
       "    </tr>\n",
       "    <tr>\n",
       "      <th>247</th>\n",
       "      <td>kilopond (kilogram-force) (kp)</td>\n",
       "      <td>newton (N)</td>\n",
       "      <td>9.80665</td>\n",
       "    </tr>\n",
       "    <tr>\n",
       "      <th>250</th>\n",
       "      <td>kip (1 kip= 1000 lbf)</td>\n",
       "      <td>newton (N)</td>\n",
       "      <td>4448.222</td>\n",
       "    </tr>\n",
       "    <tr>\n",
       "      <th>251</th>\n",
       "      <td>kip (1 kip= 1000 lbf)</td>\n",
       "      <td>kilonewton (kN)</td>\n",
       "      <td>4.448222</td>\n",
       "    </tr>\n",
       "    <tr>\n",
       "      <th>300</th>\n",
       "      <td>ounce (avoirdupois)-force (ozf)</td>\n",
       "      <td>newton (N)</td>\n",
       "      <td>0.2780139</td>\n",
       "    </tr>\n",
       "    <tr>\n",
       "      <th>301</th>\n",
       "      <td>ounce (avoirdupois)-force inch (ozf · in)</td>\n",
       "      <td>newton meter (N · m)</td>\n",
       "      <td>0.007061552</td>\n",
       "    </tr>\n",
       "    <tr>\n",
       "      <th>302</th>\n",
       "      <td>ounce (avoirdupois)-force inch (ozf · in)</td>\n",
       "      <td>millinewton meter (mN · m)</td>\n",
       "      <td>7.061552</td>\n",
       "    </tr>\n",
       "    <tr>\n",
       "      <th>336</th>\n",
       "      <td>poundal</td>\n",
       "      <td>newton (N)</td>\n",
       "      <td>0.1382550</td>\n",
       "    </tr>\n",
       "    <tr>\n",
       "      <th>340</th>\n",
       "      <td>pound-force (lbf) 23</td>\n",
       "      <td>newton (N)</td>\n",
       "      <td>4.448222</td>\n",
       "    </tr>\n",
       "    <tr>\n",
       "      <th>341</th>\n",
       "      <td>pound-force foot (lbf · ft)</td>\n",
       "      <td>newton meter (N · m)</td>\n",
       "      <td>1.355818</td>\n",
       "    </tr>\n",
       "    <tr>\n",
       "      <th>342</th>\n",
       "      <td>pound-force foot per inch (lbf · ft/in)</td>\n",
       "      <td>newton meter per meter (N · m/m)</td>\n",
       "      <td>53.37866</td>\n",
       "    </tr>\n",
       "    <tr>\n",
       "      <th>343</th>\n",
       "      <td>pound-force inch (lbf · in)</td>\n",
       "      <td>newton meter (N · m)</td>\n",
       "      <td>0.1129848</td>\n",
       "    </tr>\n",
       "    <tr>\n",
       "      <th>344</th>\n",
       "      <td>pound-force inch per inch (lbf · in/in)</td>\n",
       "      <td>newton meter per meter (N · m/m)</td>\n",
       "      <td>4.448222</td>\n",
       "    </tr>\n",
       "    <tr>\n",
       "      <th>345</th>\n",
       "      <td>pound-force per foot (lbf/ft)</td>\n",
       "      <td>newton per meter (N/m)</td>\n",
       "      <td>14.59390</td>\n",
       "    </tr>\n",
       "    <tr>\n",
       "      <th>346</th>\n",
       "      <td>pound-force per inch (lbf/in)</td>\n",
       "      <td>newton per meter (N/m)</td>\n",
       "      <td>175.1268</td>\n",
       "    </tr>\n",
       "    <tr>\n",
       "      <th>347</th>\n",
       "      <td>pound-force per pound (lbf/lb) \\n    (thrust t...</td>\n",
       "      <td>newton per kilogram (N/kg)</td>\n",
       "      <td>9.80665</td>\n",
       "    </tr>\n",
       "    <tr>\n",
       "      <th>423</th>\n",
       "      <td>ton-force (2000 lbf)</td>\n",
       "      <td>newton (N)</td>\n",
       "      <td>8896.443</td>\n",
       "    </tr>\n",
       "    <tr>\n",
       "      <th>424</th>\n",
       "      <td>ton-force (2000 lbf)</td>\n",
       "      <td>kilonewton (kN)</td>\n",
       "      <td>8.896443</td>\n",
       "    </tr>\n",
       "  </tbody>\n",
       "</table>\n",
       "</div>"
      ],
      "text/plain": [
       "                                         Toconvertfrom  \\\n",
       "137                                         dyne (dyn)   \n",
       "138                         dyne centimeter (dyn · cm)   \n",
       "238                               kilogram-force (kgf)   \n",
       "239                     kilogram-force meter (kgf · m)   \n",
       "247                     kilopond (kilogram-force) (kp)   \n",
       "250                              kip (1 kip= 1000 lbf)   \n",
       "251                              kip (1 kip= 1000 lbf)   \n",
       "300                    ounce (avoirdupois)-force (ozf)   \n",
       "301          ounce (avoirdupois)-force inch (ozf · in)   \n",
       "302          ounce (avoirdupois)-force inch (ozf · in)   \n",
       "336                                            poundal   \n",
       "340                               pound-force (lbf) 23   \n",
       "341                        pound-force foot (lbf · ft)   \n",
       "342            pound-force foot per inch (lbf · ft/in)   \n",
       "343                        pound-force inch (lbf · in)   \n",
       "344            pound-force inch per inch (lbf · in/in)   \n",
       "345                      pound-force per foot (lbf/ft)   \n",
       "346                      pound-force per inch (lbf/in)   \n",
       "347  pound-force per pound (lbf/lb) \\n    (thrust t...   \n",
       "423                               ton-force (2000 lbf)   \n",
       "424                               ton-force (2000 lbf)   \n",
       "\n",
       "                                   to   Multiplyby  \n",
       "137                        newton (N)     0.000010  \n",
       "138              newton meter (N · m)       1.0E-7  \n",
       "238                        newton (N)      9.80665  \n",
       "239              newton meter (N · m)      9.80665  \n",
       "247                        newton (N)      9.80665  \n",
       "250                        newton (N)     4448.222  \n",
       "251                   kilonewton (kN)     4.448222  \n",
       "300                        newton (N)    0.2780139  \n",
       "301              newton meter (N · m)  0.007061552  \n",
       "302        millinewton meter (mN · m)     7.061552  \n",
       "336                        newton (N)    0.1382550  \n",
       "340                        newton (N)     4.448222  \n",
       "341              newton meter (N · m)     1.355818  \n",
       "342  newton meter per meter (N · m/m)     53.37866  \n",
       "343              newton meter (N · m)    0.1129848  \n",
       "344  newton meter per meter (N · m/m)     4.448222  \n",
       "345            newton per meter (N/m)     14.59390  \n",
       "346            newton per meter (N/m)     175.1268  \n",
       "347        newton per kilogram (N/kg)      9.80665  \n",
       "423                        newton (N)     8896.443  \n",
       "424                   kilonewton (kN)     8.896443  "
      ]
     },
     "execution_count": 14,
     "metadata": {},
     "output_type": "execute_result"
    }
   ],
   "source": [
    "convDF[convDF['to'].str.contains(\"newton \")]"
   ]
  },
  {
   "cell_type": "markdown",
   "metadata": {},
   "source": [
    "Look at what you want and see the index; it happens to be 340 in this example.  "
   ]
  },
  {
   "cell_type": "code",
   "execution_count": 16,
   "metadata": {
    "collapsed": false
   },
   "outputs": [
    {
     "data": {
      "text/plain": [
       "Toconvertfrom    pound-force (lbf) 23\n",
       "to                         newton (N)\n",
       "Multiplyby                   4.448222\n",
       "Name: 340, dtype: object"
      ]
     },
     "execution_count": 16,
     "metadata": {},
     "output_type": "execute_result"
    }
   ],
   "source": [
    "lbf2N = convDF.loc[340,:]; lbf2N"
   ]
  },
  {
   "cell_type": "markdown",
   "metadata": {},
   "source": [
    "Then the attributes can accessed by the column names.  "
   ]
  },
  {
   "cell_type": "code",
   "execution_count": 19,
   "metadata": {
    "collapsed": false
   },
   "outputs": [
    {
     "name": "stdout",
     "output_type": "stream",
     "text": [
      "pound-force (lbf) 23 newton (N) 4.448222\n"
     ]
    }
   ],
   "source": [
    "print lbf2N.Toconvertfrom, lbf2N.to, lbf2N.Multiplyby"
   ]
  },
  {
   "cell_type": "markdown",
   "metadata": {},
   "source": [
    "So for example, the reusable SSME delivers a vacuum thrust of 470000 lb or "
   ]
  },
  {
   "cell_type": "code",
   "execution_count": 21,
   "metadata": {
    "collapsed": false
   },
   "outputs": [
    {
     "name": "stdout",
     "output_type": "stream",
     "text": [
      "2090664.340000 newton (N)\n"
     ]
    }
   ],
   "source": [
    "print 470000*lbf2N.Multiplyby, lbf2N.to "
   ]
  },
  {
   "cell_type": "markdown",
   "metadata": {},
   "source": [
    "To obtain the conversion for pressure in psia, which we search for with \"psi\" "
   ]
  },
  {
   "cell_type": "code",
   "execution_count": 22,
   "metadata": {
    "collapsed": false
   },
   "outputs": [
    {
     "data": {
      "text/html": [
       "<div>\n",
       "<table border=\"1\" class=\"dataframe\">\n",
       "  <thead>\n",
       "    <tr style=\"text-align: right;\">\n",
       "      <th></th>\n",
       "      <th>Toconvertfrom</th>\n",
       "      <th>to</th>\n",
       "      <th>Multiplyby</th>\n",
       "    </tr>\n",
       "  </thead>\n",
       "  <tbody>\n",
       "    <tr>\n",
       "      <th>372</th>\n",
       "      <td>psi (pound-force per square inch) (lbf/in2)</td>\n",
       "      <td>pascal (Pa)</td>\n",
       "      <td>6894.757</td>\n",
       "    </tr>\n",
       "    <tr>\n",
       "      <th>373</th>\n",
       "      <td>psi (pound-force per square inch) (lbf/in2)</td>\n",
       "      <td>kilopascal (kPa)</td>\n",
       "      <td>6.894757</td>\n",
       "    </tr>\n",
       "  </tbody>\n",
       "</table>\n",
       "</div>"
      ],
      "text/plain": [
       "                                   Toconvertfrom                to Multiplyby\n",
       "372  psi (pound-force per square inch) (lbf/in2)       pascal (Pa)   6894.757\n",
       "373  psi (pound-force per square inch) (lbf/in2)  kilopascal (kPa)   6.894757"
      ]
     },
     "execution_count": 22,
     "metadata": {},
     "output_type": "execute_result"
    }
   ],
   "source": [
    "convDF[convDF['Toconvertfrom'].str.match(\"psi\")]"
   ]
  },
  {
   "cell_type": "markdown",
   "metadata": {},
   "source": [
    "So for a chamber pressure of 3028 psia for the SSME, "
   ]
  },
  {
   "cell_type": "code",
   "execution_count": 23,
   "metadata": {
    "collapsed": true
   },
   "outputs": [],
   "source": [
    "psi2Pa = convDF.loc[372,:]"
   ]
  },
  {
   "cell_type": "code",
   "execution_count": 24,
   "metadata": {
    "collapsed": false
   },
   "outputs": [
    {
     "name": "stdout",
     "output_type": "stream",
     "text": [
      "20877324.196 pascal (Pa)\n"
     ]
    }
   ],
   "source": [
    "print 3028*psi2Pa.Multiplyby, psi2Pa.to"
   ]
  },
  {
   "cell_type": "markdown",
   "metadata": {},
   "source": [
    "Also, get the conversion for atmospheres (atm):"
   ]
  },
  {
   "cell_type": "code",
   "execution_count": 26,
   "metadata": {
    "collapsed": false
   },
   "outputs": [
    {
     "data": {
      "text/html": [
       "<div>\n",
       "<table border=\"1\" class=\"dataframe\">\n",
       "  <thead>\n",
       "    <tr style=\"text-align: right;\">\n",
       "      <th></th>\n",
       "      <th>Toconvertfrom</th>\n",
       "      <th>to</th>\n",
       "      <th>Multiplyby</th>\n",
       "    </tr>\n",
       "  </thead>\n",
       "  <tbody>\n",
       "    <tr>\n",
       "      <th>15</th>\n",
       "      <td>atmosphere, standard (atm)</td>\n",
       "      <td>pascal (Pa)</td>\n",
       "      <td>101325</td>\n",
       "    </tr>\n",
       "    <tr>\n",
       "      <th>16</th>\n",
       "      <td>atmosphere, standard (atm)</td>\n",
       "      <td>kilopascal (kPa)</td>\n",
       "      <td>101.325</td>\n",
       "    </tr>\n",
       "    <tr>\n",
       "      <th>17</th>\n",
       "      <td>atmosphere, technical (at) 8</td>\n",
       "      <td>pascal (Pa)</td>\n",
       "      <td>98066.5</td>\n",
       "    </tr>\n",
       "    <tr>\n",
       "      <th>18</th>\n",
       "      <td>atmosphere, technical (at) 8</td>\n",
       "      <td>kilopascal (kPa)</td>\n",
       "      <td>98.0665</td>\n",
       "    </tr>\n",
       "  </tbody>\n",
       "</table>\n",
       "</div>"
      ],
      "text/plain": [
       "                   Toconvertfrom                to Multiplyby\n",
       "15    atmosphere, standard (atm)       pascal (Pa)     101325\n",
       "16    atmosphere, standard (atm)  kilopascal (kPa)    101.325\n",
       "17  atmosphere, technical (at) 8       pascal (Pa)    98066.5\n",
       "18  atmosphere, technical (at) 8  kilopascal (kPa)    98.0665"
      ]
     },
     "execution_count": 26,
     "metadata": {},
     "output_type": "execute_result"
    }
   ],
   "source": [
    "convDF[convDF['Toconvertfrom'].str.match(\"atm\")]"
   ]
  },
  {
   "cell_type": "code",
   "execution_count": 27,
   "metadata": {
    "collapsed": true
   },
   "outputs": [],
   "source": [
    "atm2Pa = convDF.loc[15,:]"
   ]
  },
  {
   "cell_type": "code",
   "execution_count": 29,
   "metadata": {
    "collapsed": false
   },
   "outputs": [
    {
     "name": "stdout",
     "output_type": "stream",
     "text": [
      "206.0431699580557611645694547 atmosphere, standard (atm)\n"
     ]
    }
   ],
   "source": [
    "print 3028*psi2Pa.Multiplyby/atm2Pa.Multiplyby, atm2Pa.Toconvertfrom"
   ]
  },
  {
   "cell_type": "markdown",
   "metadata": {
    "collapsed": true
   },
   "source": [
    "## Webscraping example: JPL Solar System Dynamics (JPL SSD) - Planets and Pluto"
   ]
  },
  {
   "cell_type": "markdown",
   "metadata": {},
   "source": [
    "Take a look at the file [`scrape_BS.py`](https://github.com/ernestyalumni/Propulsion/blob/master/Physique/scrape_BS.py) in this Physique folder.  `BS` stands for the *BeautifulSoup* python module that's extensively used here.  Start at the class called `scraped_BS` which will use the python module *requests* to put the html out from a url address into a BeautifulSoup object.  "
   ]
  },
  {
   "cell_type": "code",
   "execution_count": 11,
   "metadata": {
    "collapsed": true
   },
   "outputs": [],
   "source": [
    "JPL_SSD_URL = \"http://ssd.jpl.nasa.gov/\" # JPL NASA Solar System Dynamics webpage"
   ]
  },
  {
   "cell_type": "code",
   "execution_count": 12,
   "metadata": {
    "collapsed": false
   },
   "outputs": [
    {
     "name": "stderr",
     "output_type": "stream",
     "text": [
      "/home/topolo/Public/anaconda2/lib/python2.7/site-packages/bs4/__init__.py:166: UserWarning: No parser was explicitly specified, so I'm using the best available HTML parser for this system (\"lxml\"). This usually isn't a problem, but if you run this code on another system, or in a different virtual environment, it may use a different parser and behave differently.\n",
      "\n",
      "To get rid of this warning, change this:\n",
      "\n",
      " BeautifulSoup([your markup])\n",
      "\n",
      "to this:\n",
      "\n",
      " BeautifulSoup([your markup], \"lxml\")\n",
      "\n",
      "  markup_type=markup_type))\n"
     ]
    }
   ],
   "source": [
    "jpl_ssd_BS = Physique.scrape_BS.scraped_BS(JPL_SSD_URL)"
   ]
  },
  {
   "cell_type": "markdown",
   "metadata": {},
   "source": [
    "Take a look at it with the usual BeautifulSoup modules (i.e. functions).\n",
    "\n",
    "Now, as the Udacity Data Wrangling instructor said, Shannon Bradshaw, taught, we're going to need to use the Inspect Element (Firefox), or Develop -> Web Inspector (Mac OS X Safari) functions on your web browswer to see what the relevant html codes are.  \n",
    "\n",
    "Now in this particular case (webpage formats are all different; assume the worst), there are no distinguishing classes for the tables (they're just nested tables on tables).  cf. [stackoverflow.com BeautifulSoup scraping nested tables](http://stackoverflow.com/questions/30063691/beautifulsoup-scraping-nested-tables)  I'm using the solution from this stackoverflow answer.  "
   ]
  },
  {
   "cell_type": "code",
   "execution_count": 35,
   "metadata": {
    "collapsed": false
   },
   "outputs": [],
   "source": [
    "# for table in jpl_ssd_BS.soup.find_all(\"table\"):\n",
    "#    for subtable in table.find_all(\"table\"):\n",
    "#        print subtable.find(\"table\") # uncomment this out and run it to see the whole darn thing"
   ]
  },
  {
   "cell_type": "markdown",
   "metadata": {},
   "source": [
    "Let's just focus on the Physical Data subpage for today.  This is the way to find a specific tag (in this case `img`) with a specific attribute (in this case `alt=\"PHYSICAL DATA\"`), and then the parent module gets its parent.  Then the `href` index in the square brackets [] gets the web address we desire."
   ]
  },
  {
   "cell_type": "code",
   "execution_count": 46,
   "metadata": {
    "collapsed": false
   },
   "outputs": [
    {
     "data": {
      "text/plain": [
       "'/?phys_data'"
      ]
     },
     "execution_count": 46,
     "metadata": {},
     "output_type": "execute_result"
    }
   ],
   "source": [
    "jpl_ssd_BS.soup.find('img',{\"alt\":\"PHYSICAL DATA\"}).parent['href']"
   ]
  },
  {
   "cell_type": "code",
   "execution_count": 48,
   "metadata": {
    "collapsed": false
   },
   "outputs": [
    {
     "data": {
      "text/plain": [
       "'http://ssd.jpl.nasa.gov/?phys_data'"
      ]
     },
     "execution_count": 48,
     "metadata": {},
     "output_type": "execute_result"
    }
   ],
   "source": [
    "JPL_SSD_PHYS_DATA_URL = JPL_SSD_URL + jpl_ssd_BS.soup.find('img',{\"alt\":\"PHYSICAL DATA\"}).parent['href'][1:]\n",
    "JPL_SSD_PHYS_DATA_URL"
   ]
  },
  {
   "cell_type": "code",
   "execution_count": 49,
   "metadata": {
    "collapsed": true
   },
   "outputs": [],
   "source": [
    "jpl_ssd_phys_data_BS = Physique.scrape_BS.scraped_BS(JPL_SSD_PHYS_DATA_URL)"
   ]
  },
  {
   "cell_type": "markdown",
   "metadata": {},
   "source": [
    "At this point, I wish there was a rational and civilized manner to scrape all the relevant quantitative data from here for all the links (using Scrapy?) but I need help at this point for that endeavor.  Otherwise, I manually look at the webpage itself and manually use Inspect Element to find what I want and then use BeautifulSoup accordingly.    "
   ]
  },
  {
   "cell_type": "code",
   "execution_count": 81,
   "metadata": {
    "collapsed": false
   },
   "outputs": [
    {
     "data": {
      "text/plain": [
       "'?planet_phys_par'"
      ]
     },
     "execution_count": 81,
     "metadata": {},
     "output_type": "execute_result"
    }
   ],
   "source": [
    "jpl_ssd_phys_data_BS.soup.find('h2',text=\"Planets\").find_next('a')"
   ]
  },
  {
   "cell_type": "code",
   "execution_count": 82,
   "metadata": {
    "collapsed": true
   },
   "outputs": [],
   "source": [
    "JPL_SSD_PLANET_PHYS_PAR_URL = JPL_SSD_URL + jpl_ssd_phys_data_BS.soup.find('h2',text=\"Planets\").find_next('a')['href']\n",
    "jpl_ssd_planet_phys_par_BS = Physique.scrape_BS.scraped_BS(JPL_SSD_PLANET_PHYS_PAR_URL)"
   ]
  },
  {
   "cell_type": "code",
   "execution_count": 104,
   "metadata": {
    "collapsed": false
   },
   "outputs": [],
   "source": [
    "jpl_ssd_planet_phys_parTBL = jpl_ssd_planet_phys_par_BS.soup.find(\"div\", {\"class\":\"page_title\"}).find_next(\"table\")"
   ]
  },
  {
   "cell_type": "markdown",
   "metadata": {},
   "source": [
    "Time to scrape the actual html code for the table we desire: `jpl_ssd_planet_phys_parTBL`.  Take a look at the function `make_conv_lst` in `scrape_BS.py` and take a look at that first `for` loop.  That's the procedure we'll take (and I confirmed that this is in practice what's done on [stackoverflow](http://stackoverflow.com/questions/23377533/python-beautifulsoup-parsing-table)).  But wait: the data values are themselves tables.  So again, there is no rhyme or reason for the logic or rationale for the html tables for data, in general, for any websites.  So I'll get the headers first (which makes sense) and do an ugly hack for the data values (also notice the `recursive=False` option).      "
   ]
  },
  {
   "cell_type": "code",
   "execution_count": 197,
   "metadata": {
    "collapsed": false
   },
   "outputs": [],
   "source": [
    "data = []\n",
    "for row in jpl_ssd_planet_phys_parTBL.find_all('tr', recursive=False):\n",
    "    cols = row.find_all('td', recursive=False)\n",
    "    cols = [ele.text if ele.text != u'\\xa0' else u'' for ele in cols]\n",
    "    data.append(cols) \n",
    "hdrs = data[:2]    # get the headers first"
   ]
  },
  {
   "cell_type": "code",
   "execution_count": 198,
   "metadata": {
    "collapsed": false
   },
   "outputs": [],
   "source": [
    "jpl_ssd_planet_phys_parTBL.find_all('tr')[2].find_all('td')[18].text\n",
    "data = [[row[0].replace(u'\\xa0',''),]+row[1:] for row in data[2:]]  # remove the space, \\xa0 from each of the planet's names\n",
    "data = [[row[0],]+[ele.replace('\\n','') for ele in row[1:]] for row in data] # remove the '\\n' strings\n",
    "data = [[row[0],]+[ele.split(u'\\xb1')[0] for ele in row[1:]] for row in data] # let's just get the values \n",
    "data = [[row[0],]+[ele.split(u'\\xa0')[0] for ele in row[1:]] for row in data] # let's just get the values"
   ]
  },
  {
   "cell_type": "markdown",
   "metadata": {},
   "source": [
    "I'll add back the units as part of the data (I don't know a sane and civilized way of attaching to each of the column names in pandas, a pandas DataFrame, the units, as extra information)"
   ]
  },
  {
   "cell_type": "code",
   "execution_count": 199,
   "metadata": {
    "collapsed": false
   },
   "outputs": [],
   "source": [
    "data = [hdrs[1],] + data"
   ]
  },
  {
   "cell_type": "code",
   "execution_count": 202,
   "metadata": {
    "collapsed": false
   },
   "outputs": [],
   "source": [
    "import pandas as pd\n",
    "data = pd.DataFrame( data )\n",
    "data.columns = hdrs[0]"
   ]
  },
  {
   "cell_type": "code",
   "execution_count": 203,
   "metadata": {
    "collapsed": false
   },
   "outputs": [
    {
     "data": {
      "text/html": [
       "<div>\n",
       "<table border=\"1\" class=\"dataframe\">\n",
       "  <thead>\n",
       "    <tr style=\"text-align: right;\">\n",
       "      <th></th>\n",
       "      <th>Planet</th>\n",
       "      <th>EquatorialRadius</th>\n",
       "      <th>MeanRadius</th>\n",
       "      <th>Mass</th>\n",
       "      <th>BulkDensity</th>\n",
       "      <th>SiderealRotation Period</th>\n",
       "      <th>SiderealOrbit Period</th>\n",
       "      <th>V(1,0)</th>\n",
       "      <th>GeometricAlbedo</th>\n",
       "      <th>EquatorialGravity</th>\n",
       "      <th>EscapeVelocity</th>\n",
       "    </tr>\n",
       "  </thead>\n",
       "  <tbody>\n",
       "    <tr>\n",
       "      <th>0</th>\n",
       "      <td></td>\n",
       "      <td>(km)</td>\n",
       "      <td>(km)</td>\n",
       "      <td>(x 1024 kg)</td>\n",
       "      <td>(g cm-3)</td>\n",
       "      <td>(d)</td>\n",
       "      <td>(y)</td>\n",
       "      <td>(mag)</td>\n",
       "      <td></td>\n",
       "      <td>(m s-2)</td>\n",
       "      <td>(km s-1)</td>\n",
       "    </tr>\n",
       "    <tr>\n",
       "      <th>1</th>\n",
       "      <td>Mercury</td>\n",
       "      <td>2439.7</td>\n",
       "      <td>2439.7</td>\n",
       "      <td>0.330104</td>\n",
       "      <td>5.427</td>\n",
       "      <td>58.6462</td>\n",
       "      <td>0.2408467</td>\n",
       "      <td>-0.60</td>\n",
       "      <td>0.106</td>\n",
       "      <td>3.70</td>\n",
       "      <td>4.25</td>\n",
       "    </tr>\n",
       "    <tr>\n",
       "      <th>2</th>\n",
       "      <td>Venus</td>\n",
       "      <td>6051.8</td>\n",
       "      <td>6051.8</td>\n",
       "      <td>4.86732</td>\n",
       "      <td>5.243</td>\n",
       "      <td>-243.018</td>\n",
       "      <td>0.61519726</td>\n",
       "      <td>-4.47</td>\n",
       "      <td>0.65</td>\n",
       "      <td>8.87</td>\n",
       "      <td>10.36</td>\n",
       "    </tr>\n",
       "    <tr>\n",
       "      <th>3</th>\n",
       "      <td>Earth</td>\n",
       "      <td>6378.14</td>\n",
       "      <td>6371.00</td>\n",
       "      <td>5.97219</td>\n",
       "      <td>5.5134</td>\n",
       "      <td>0.99726968</td>\n",
       "      <td>1.0000174</td>\n",
       "      <td>-3.86</td>\n",
       "      <td>0.367</td>\n",
       "      <td>9.80</td>\n",
       "      <td>11.19</td>\n",
       "    </tr>\n",
       "    <tr>\n",
       "      <th>4</th>\n",
       "      <td>Mars</td>\n",
       "      <td>3396.19</td>\n",
       "      <td>3389.50</td>\n",
       "      <td>0.641693</td>\n",
       "      <td>3.9340</td>\n",
       "      <td>1.02595676</td>\n",
       "      <td>1.8808476</td>\n",
       "      <td>-1.52</td>\n",
       "      <td>0.150</td>\n",
       "      <td>3.71</td>\n",
       "      <td>5.03</td>\n",
       "    </tr>\n",
       "    <tr>\n",
       "      <th>5</th>\n",
       "      <td>Jupiter</td>\n",
       "      <td>71492</td>\n",
       "      <td>69911</td>\n",
       "      <td>1898.13</td>\n",
       "      <td>1.3262</td>\n",
       "      <td>0.41354</td>\n",
       "      <td>11.862615</td>\n",
       "      <td>-9.40</td>\n",
       "      <td>0.52</td>\n",
       "      <td>24.79</td>\n",
       "      <td>60.20</td>\n",
       "    </tr>\n",
       "    <tr>\n",
       "      <th>6</th>\n",
       "      <td>Saturn</td>\n",
       "      <td>60268</td>\n",
       "      <td>58232</td>\n",
       "      <td>568.319</td>\n",
       "      <td>0.6871</td>\n",
       "      <td>0.44401</td>\n",
       "      <td>29.447498</td>\n",
       "      <td>-8.88</td>\n",
       "      <td>0.47</td>\n",
       "      <td>10.44</td>\n",
       "      <td>36.09</td>\n",
       "    </tr>\n",
       "    <tr>\n",
       "      <th>7</th>\n",
       "      <td>Uranus</td>\n",
       "      <td>25559</td>\n",
       "      <td>25362</td>\n",
       "      <td>86.8103</td>\n",
       "      <td>1.270</td>\n",
       "      <td>-0.71833</td>\n",
       "      <td>84.016846</td>\n",
       "      <td>-7.19</td>\n",
       "      <td>0.51</td>\n",
       "      <td>8.87</td>\n",
       "      <td>21.38</td>\n",
       "    </tr>\n",
       "    <tr>\n",
       "      <th>8</th>\n",
       "      <td>Neptune</td>\n",
       "      <td>24764</td>\n",
       "      <td>24622</td>\n",
       "      <td>102.410</td>\n",
       "      <td>1.638</td>\n",
       "      <td>0.67125</td>\n",
       "      <td>164.79132</td>\n",
       "      <td>-6.87</td>\n",
       "      <td>0.41</td>\n",
       "      <td>11.15</td>\n",
       "      <td>23.56</td>\n",
       "    </tr>\n",
       "    <tr>\n",
       "      <th>9</th>\n",
       "      <td>Pluto</td>\n",
       "      <td>1151</td>\n",
       "      <td>1151</td>\n",
       "      <td>.01309</td>\n",
       "      <td>2.05</td>\n",
       "      <td>-6.3872</td>\n",
       "      <td>247.92065</td>\n",
       "      <td>-1.0</td>\n",
       "      <td>0.3</td>\n",
       "      <td>0.66</td>\n",
       "      <td>1.23</td>\n",
       "    </tr>\n",
       "  </tbody>\n",
       "</table>\n",
       "</div>"
      ],
      "text/plain": [
       "    Planet EquatorialRadius MeanRadius         Mass BulkDensity  \\\n",
       "0                      (km)       (km)  (x 1024 kg)    (g cm-3)   \n",
       "1  Mercury           2439.7     2439.7     0.330104       5.427   \n",
       "2    Venus           6051.8     6051.8      4.86732       5.243   \n",
       "3    Earth          6378.14    6371.00      5.97219      5.5134   \n",
       "4     Mars          3396.19    3389.50     0.641693      3.9340   \n",
       "5  Jupiter            71492      69911      1898.13      1.3262   \n",
       "6   Saturn            60268      58232      568.319      0.6871   \n",
       "7   Uranus            25559      25362      86.8103       1.270   \n",
       "8  Neptune            24764      24622      102.410       1.638   \n",
       "9    Pluto             1151       1151       .01309        2.05   \n",
       "\n",
       "  SiderealRotation Period SiderealOrbit Period V(1,0) GeometricAlbedo  \\\n",
       "0                     (d)                  (y)  (mag)                   \n",
       "1                 58.6462            0.2408467  -0.60           0.106   \n",
       "2                -243.018           0.61519726  -4.47            0.65   \n",
       "3              0.99726968            1.0000174  -3.86           0.367   \n",
       "4              1.02595676            1.8808476  -1.52           0.150   \n",
       "5                 0.41354            11.862615  -9.40            0.52   \n",
       "6                 0.44401            29.447498  -8.88            0.47   \n",
       "7                -0.71833            84.016846  -7.19            0.51   \n",
       "8                 0.67125            164.79132  -6.87            0.41   \n",
       "9                 -6.3872            247.92065   -1.0             0.3   \n",
       "\n",
       "  EquatorialGravity EscapeVelocity  \n",
       "0           (m s-2)       (km s-1)  \n",
       "1              3.70           4.25  \n",
       "2              8.87          10.36  \n",
       "3              9.80          11.19  \n",
       "4              3.71           5.03  \n",
       "5             24.79          60.20  \n",
       "6             10.44          36.09  \n",
       "7              8.87          21.38  \n",
       "8             11.15          23.56  \n",
       "9              0.66           1.23  "
      ]
     },
     "execution_count": 203,
     "metadata": {},
     "output_type": "execute_result"
    }
   ],
   "source": [
    "data"
   ]
  },
  {
   "cell_type": "markdown",
   "metadata": {},
   "source": [
    "Time to save our work as a \"`pickle`'d\" `pandas` DataFrame."
   ]
  },
  {
   "cell_type": "code",
   "execution_count": 204,
   "metadata": {
    "collapsed": true
   },
   "outputs": [],
   "source": [
    "data.to_pickle('./rawdata/JPL_NASA_SSD_Planet_Phys_Par_values.pkl') # values only"
   ]
  },
  {
   "cell_type": "markdown",
   "metadata": {},
   "source": [
    "And so to access this, to use in Python, do the following, using `.read_pickle` of `pandas`:"
   ]
  },
  {
   "cell_type": "code",
   "execution_count": 207,
   "metadata": {
    "collapsed": false
   },
   "outputs": [],
   "source": [
    "PlanetParDF = pd.read_pickle('./rawdata/JPL_NASA_SSD_Planet_Phys_Par_values.pkl')"
   ]
  },
  {
   "cell_type": "code",
   "execution_count": null,
   "metadata": {
    "collapsed": true
   },
   "outputs": [],
   "source": []
  }
 ],
 "metadata": {
  "kernelspec": {
   "display_name": "Python 2",
   "language": "python",
   "name": "python2"
  },
  "language_info": {
   "codemirror_mode": {
    "name": "ipython",
    "version": 2
   },
   "file_extension": ".py",
   "mimetype": "text/x-python",
   "name": "python",
   "nbconvert_exporter": "python",
   "pygments_lexer": "ipython2",
   "version": "2.7.11"
  }
 },
 "nbformat": 4,
 "nbformat_minor": 0
}
