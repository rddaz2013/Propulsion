{
 "cells": [
  {
   "cell_type": "markdown",
   "metadata": {},
   "source": [
    "# tut1.py\n",
    "### tut1.m implemented in Python for cantera (now as a jupyter notebook)\n",
    "cf. http://www.cantera.org/docs/sphinx/html/matlab/tutorials/tut1.html\n",
    "\n",
    "Copyleft 2016, i.e. MIT License; Ernest Yeung <ernestyalumni@gmail.com>                            \n",
    "20160629\n",
    "\n",
    "# Tutorial 1:  Getting started\n",
    "   \n",
    "Topics:\n",
    "    - creating a gas mixture\n",
    "    - setting the state\n",
    "    - cleaning up\n"
   ]
  },
  {
   "cell_type": "code",
   "execution_count": 1,
   "metadata": {
    "collapsed": true
   },
   "outputs": [],
   "source": [
    "import cantera as ct\n",
    "import numpy as np"
   ]
  },
  {
   "cell_type": "code",
   "execution_count": 2,
   "metadata": {
    "collapsed": true
   },
   "outputs": [],
   "source": [
    "gas1 = ct.Solution(\"gri30.xml\")"
   ]
  },
  {
   "cell_type": "code",
   "execution_count": 3,
   "metadata": {
    "collapsed": false
   },
   "outputs": [
    {
     "name": "stdout",
     "output_type": "stream",
     "text": [
      "\n",
      "  gri30:\n",
      "\n",
      "       temperature             300  K\n",
      "          pressure          101325  Pa\n",
      "           density       0.0818891  kg/m^3\n",
      "  mean mol. weight         2.01588  amu\n",
      "\n",
      "                          1 kg            1 kmol\n",
      "                       -----------      ------------\n",
      "          enthalpy           26470        5.336e+04     J\n",
      "   internal energy     -1.2109e+06       -2.441e+06     J\n",
      "           entropy           64914        1.309e+05     J/K\n",
      "    Gibbs function     -1.9448e+07        -3.92e+07     J\n",
      " heat capacity c_p           14312        2.885e+04     J/K\n",
      " heat capacity c_v           10187        2.054e+04     J/K\n",
      "\n",
      "                           X                 Y          Chem. Pot. / RT\n",
      "                     -------------     ------------     ------------\n",
      "                H2              1                1         -15.7173\n",
      "     [  +52 minor]              0                0\n",
      "\n",
      "None\n"
     ]
    }
   ],
   "source": [
    "print gas1()"
   ]
  },
  {
   "cell_type": "markdown",
   "metadata": {},
   "source": [
    "What you have just done is to create an object (\"gas1\") that\n",
    "implements GRI-Mech 3.0, the 53-species, 325-reaction natural gas\n",
    "combustion mechanism developed by Gregory P. Smith, David M. Golden,\n",
    "Michael Frenklach, Nigel W. Moriarty, Boris Eiteneer, Mikhail\n",
    "Goldenberg, C. Thomas Bowman, Ronald K. Hanson, Soonho Song, William\n",
    "C. Gardiner, Jr., Vitali V. Lissianski, and Zhiwei Qin. (See\n",
    "http://www.me.berkeley.edu/gri_mech/ for more information about\n",
    "GRI-Mech 3.0.)\n",
    "\n",
    "The object created by GI30 has properties you would expect for a gas\n",
    "mixture - it has a temperature, a pressure, species mole and mass\n",
    "fractions, etc. As we'll soon see, it has many other properties too.\n",
    "The summary of the state of 'gas1' printed above shows that new\n",
    "objects created by function GRI30 start out with a temperature of\n",
    "300 K, a pressure of 1 atm, and have a composition that consists of\n",
    "only one species, in this case hydrogen. There is nothing special\n",
    "about H2 - it just happens to be the first species listed in the\n",
    "input file defining GRI-Mech 3.0 that the 'GRI30' function reads. In\n",
    "general, the species listed first will initially have a mole\n",
    "fraction of 1.0, and all of the others will be zero.\n",
    "\n",
    "##  Setting the state\n",
    "  -----------------\n",
    "\n",
    "The state of the object can be easily changed. For example,"
   ]
  },
  {
   "cell_type": "code",
   "execution_count": 4,
   "metadata": {
    "collapsed": false
   },
   "outputs": [],
   "source": [
    "gas1.TD = (1200,None)"
   ]
  },
  {
   "cell_type": "code",
   "execution_count": 5,
   "metadata": {
    "collapsed": false
   },
   "outputs": [
    {
     "name": "stdout",
     "output_type": "stream",
     "text": [
      "\n",
      "  gri30:\n",
      "\n",
      "       temperature            1200  K\n",
      "          pressure          405300  Pa\n",
      "           density       0.0818891  kg/m^3\n",
      "  mean mol. weight         2.01588  amu\n",
      "\n",
      "                          1 kg            1 kmol\n",
      "                       -----------      ------------\n",
      "          enthalpy      1.3296e+07         2.68e+07     J\n",
      "   internal energy      8.3462e+06        1.682e+07     J\n",
      "           entropy           79510        1.603e+05     J/K\n",
      "    Gibbs function     -8.2116e+07       -1.655e+08     J\n",
      " heat capacity c_p           15378          3.1e+04     J/K\n",
      " heat capacity c_v           11253        2.269e+04     J/K\n",
      "\n",
      "                           X                 Y          Chem. Pot. / RT\n",
      "                     -------------     ------------     ------------\n",
      "                H2              1                1         -16.5912\n",
      "     [  +52 minor]              0                0\n",
      "\n"
     ]
    }
   ],
   "source": [
    "gas1()"
   ]
  },
  {
   "cell_type": "markdown",
   "metadata": {},
   "source": [
    "sets the temperature to 1200 K. (Cantera always uses SI units.)"
   ]
  },
  {
   "cell_type": "markdown",
   "metadata": {},
   "source": [
    "Notice in the summary of properties that MATLAB prints after this\n",
    "command is executed that the temperature has been changed as\n",
    "requested, but the pressure has changed too. The density and\n",
    "composition have not. \n",
    "\n",
    "When setting properties individually, some convention needs to be\n",
    "adopted to specify which other properties are held constant. This is\n",
    "because thermodynamics requires that *two* properties (not one) in\n",
    "addition to composition information be specified to fix the\n",
    "intensive state of a substance (or mixture).\n",
    "\n",
    "Cantera adopts the following convention: only one of the set\n",
    "(temperature, density, mass fractions) is altered by setting any\n",
    "single property. In particular:\n",
    "\n",
    "a) Setting the temperature is done holding density and\n",
    "   composition  fixed. (The pressure changes.)\n",
    "\n",
    "b) Setting the pressure is done holding temperature and\n",
    "   composition fixed. (The density changes.)\n",
    "\n",
    "c) Setting the composition is done holding temperature\n",
    "   and density fixed. (The pressure changes).\n",
    "\n",
    "\n",
    "## Setting multiple properties: \n",
    " ---------------------------------------------\n",
    "\n",
    "If you want to set multiple properties at once, use "
   ]
  },
  {
   "cell_type": "code",
   "execution_count": 6,
   "metadata": {
    "collapsed": true
   },
   "outputs": [],
   "source": [
    "gas1.TP = 900.0, 1.e5"
   ]
  },
  {
   "cell_type": "markdown",
   "metadata": {},
   "source": [
    "This statement sets both temperature and pressure at the same\n",
    "time. Any number of property/value pairs can be specified in the \n",
    "\"new\" Python method \n",
    "cf. (http://www.cantera.org/docs/sphinx/html/cython/migrating.html#setting-thermodynamic-state)\n",
    "\n",
    "The following sets the mole fractions"
   ]
  },
  {
   "cell_type": "code",
   "execution_count": 7,
   "metadata": {
    "collapsed": true
   },
   "outputs": [],
   "source": [
    "gas1.TP = 900.0, 1.e5\n",
    "gas1.X = 'CH4:1,O2:2,N2:7.52'"
   ]
  },
  {
   "cell_type": "markdown",
   "metadata": {},
   "source": [
    "This all results in "
   ]
  },
  {
   "cell_type": "code",
   "execution_count": 8,
   "metadata": {
    "collapsed": false
   },
   "outputs": [
    {
     "name": "stdout",
     "output_type": "stream",
     "text": [
      "\n",
      "  gri30:\n",
      "\n",
      "       temperature             900  K\n",
      "          pressure         7295.13  Pa\n",
      "           density       0.0269394  kg/m^3\n",
      "  mean mol. weight         27.6332  amu\n",
      "\n",
      "                          1 kg            1 kmol\n",
      "                       -----------      ------------\n",
      "          enthalpy      4.5566e+05        1.259e+07     J\n",
      "   internal energy      1.8486e+05        5.108e+06     J\n",
      "           entropy            9317        2.575e+05     J/K\n",
      "    Gibbs function     -7.9296e+06       -2.191e+08     J\n",
      " heat capacity c_p          1304.4        3.604e+04     J/K\n",
      " heat capacity c_v          1003.5        2.773e+04     J/K\n",
      "\n",
      "                           X                 Y          Chem. Pot. / RT\n",
      "                     -------------     ------------     ------------\n",
      "                O2       0.190114         0.220149         -30.5775\n",
      "               CH4       0.095057        0.0551863         -39.6993\n",
      "                N2       0.714829         0.724665          -27.553\n",
      "     [  +50 minor]              0                0\n",
      "\n"
     ]
    }
   ],
   "source": [
    "gas1()"
   ]
  },
  {
   "cell_type": "markdown",
   "metadata": {},
   "source": [
    "Other properties may also be set, including some that\n",
    "can't be set individually. The following property pairs may be\n",
    "set: (Enthalpy, Pressure), (IntEnergy, Volume), (Entropy,\n",
    "Volume), (Entropy, Pressure). In each case, the values of the\n",
    "extensive properties must be entered *per unit mass*. \n",
    "\n",
    "## Setting the enthalpy and pressure:"
   ]
  },
  {
   "cell_type": "code",
   "execution_count": 9,
   "metadata": {
    "collapsed": true
   },
   "outputs": [],
   "source": [
    "gas1.HP = 2*gas1.enthalpy_mass, 2*ct.one_atm"
   ]
  },
  {
   "cell_type": "markdown",
   "metadata": {},
   "source": [
    "The composition above was specified using a string. The format is a\n",
    "comma-separated list of `<species name>:<relative mole numbers>`\n",
    "pairs. The mole numbers will be normalized to produce the mole\n",
    "fractions, and therefore they are 'relative' mole numbers.  Mass\n",
    "fractions can be set in this way too by changing 'X' to 'Y' in the\n",
    "above statement.\n",
    "\n",
    "The composition can also be set using an array, which can be\n",
    "either a column vector or a row vector but must have the same\n",
    "size as the number of species. For example, to set all 53 mole\n",
    "fractions to the same value, do this:"
   ]
  },
  {
   "cell_type": "code",
   "execution_count": 10,
   "metadata": {
    "collapsed": true
   },
   "outputs": [],
   "source": [
    "x = np.ones(53) # a column vector of 53 ones\n",
    "gas1.X = x"
   ]
  },
  {
   "cell_type": "markdown",
   "metadata": {},
   "source": [
    "To set the mass fractions to equal values:\n"
   ]
  },
  {
   "cell_type": "code",
   "execution_count": 11,
   "metadata": {
    "collapsed": true
   },
   "outputs": [],
   "source": [
    "gas1.Y = x"
   ]
  },
  {
   "cell_type": "markdown",
   "metadata": {},
   "source": [
    "one doesn't really need to clear up objects created in Python;\n",
    "please let me know if this is NOT the case @ernestyalumni, otherwise, \n",
    "I reference the following:\n",
    "cf. http://eli.thegreenplace.net/2009/06/12/safely-using-destructors-in-python\n",
    "\n",
    "######################################################################\n",
    "#   end of tutorial 1\n",
    "######################################################################"
   ]
  }
 ],
 "metadata": {
  "kernelspec": {
   "display_name": "Python 2",
   "language": "python",
   "name": "python2"
  },
  "language_info": {
   "codemirror_mode": {
    "name": "ipython",
    "version": 2
   },
   "file_extension": ".py",
   "mimetype": "text/x-python",
   "name": "python",
   "nbconvert_exporter": "python",
   "pygments_lexer": "ipython2",
   "version": "2.7.11"
  }
 },
 "nbformat": 4,
 "nbformat_minor": 0
}
